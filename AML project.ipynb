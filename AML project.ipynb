{
 "cells": [
  {
   "cell_type": "markdown",
   "metadata": {},
   "source": [
    "# AML Consenus Project\n",
    "## Process the data in https://github.com/NCBI-Hackathons/ConsensusML"
   ]
  },
  {
   "cell_type": "code",
   "execution_count": 1,
   "metadata": {
    "collapsed": true
   },
   "outputs": [],
   "source": [
    "clinical.dat <- read.csv (\"AML_assay_clinical.csv\")"
   ]
  },
  {
   "cell_type": "code",
   "execution_count": 2,
   "metadata": {
    "collapsed": false
   },
   "outputs": [
    {
     "data": {
      "text/html": [
       "<ol class=list-inline>\n",
       "\t<li>187</li>\n",
       "\t<li>21492</li>\n",
       "</ol>\n"
      ],
      "text/latex": [
       "\\begin{enumerate*}\n",
       "\\item 187\n",
       "\\item 21492\n",
       "\\end{enumerate*}\n"
      ],
      "text/markdown": [
       "1. 187\n",
       "2. 21492\n",
       "\n",
       "\n"
      ],
      "text/plain": [
       "[1]   187 21492"
      ]
     },
     "metadata": {},
     "output_type": "display_data"
    }
   ],
   "source": [
    "dim (clinical.dat)"
   ]
  },
  {
   "cell_type": "code",
   "execution_count": 4,
   "metadata": {
    "collapsed": false
   },
   "outputs": [],
   "source": [
    "training.dat <- read.csv (\"TARGET_AML_Training_Samples.csv\")"
   ]
  },
  {
   "cell_type": "code",
   "execution_count": 5,
   "metadata": {
    "collapsed": false
   },
   "outputs": [
    {
     "data": {
      "text/html": [
       "<ol class=list-inline>\n",
       "\t<li>96</li>\n",
       "\t<li>2</li>\n",
       "</ol>\n"
      ],
      "text/latex": [
       "\\begin{enumerate*}\n",
       "\\item 96\n",
       "\\item 2\n",
       "\\end{enumerate*}\n"
      ],
      "text/markdown": [
       "1. 96\n",
       "2. 2\n",
       "\n",
       "\n"
      ],
      "text/plain": [
       "[1] 96  2"
      ]
     },
     "metadata": {},
     "output_type": "display_data"
    }
   ],
   "source": [
    "dim (training.dat)"
   ]
  },
  {
   "cell_type": "code",
   "execution_count": 6,
   "metadata": {
    "collapsed": false
   },
   "outputs": [
    {
     "data": {
      "text/html": [
       "<table>\n",
       "<thead><tr><th scope=col>X</th><th scope=col>x</th></tr></thead>\n",
       "<tbody>\n",
       "\t<tr><td>1               </td><td>TARGET-20-PASFEW</td></tr>\n",
       "\t<tr><td>2               </td><td>TARGET-20-PARYFN</td></tr>\n",
       "\t<tr><td>3               </td><td>TARGET-20-PANSBH</td></tr>\n",
       "\t<tr><td>4               </td><td>TARGET-20-PARPDS</td></tr>\n",
       "\t<tr><td>5               </td><td>TARGET-20-PAEIKD</td></tr>\n",
       "</tbody>\n",
       "</table>\n"
      ],
      "text/latex": [
       "\\begin{tabular}{r|ll}\n",
       " X & x\\\\\n",
       "\\hline\n",
       "\t 1                & TARGET-20-PASFEW\\\\\n",
       "\t 2                & TARGET-20-PARYFN\\\\\n",
       "\t 3                & TARGET-20-PANSBH\\\\\n",
       "\t 4                & TARGET-20-PARPDS\\\\\n",
       "\t 5                & TARGET-20-PAEIKD\\\\\n",
       "\\end{tabular}\n"
      ],
      "text/markdown": [
       "\n",
       "| X | x |\n",
       "|---|---|\n",
       "| 1                | TARGET-20-PASFEW |\n",
       "| 2                | TARGET-20-PARYFN |\n",
       "| 3                | TARGET-20-PANSBH |\n",
       "| 4                | TARGET-20-PARPDS |\n",
       "| 5                | TARGET-20-PAEIKD |\n",
       "\n"
      ],
      "text/plain": [
       "  X x               \n",
       "1 1 TARGET-20-PASFEW\n",
       "2 2 TARGET-20-PARYFN\n",
       "3 3 TARGET-20-PANSBH\n",
       "4 4 TARGET-20-PARPDS\n",
       "5 5 TARGET-20-PAEIKD"
      ]
     },
     "metadata": {},
     "output_type": "display_data"
    }
   ],
   "source": [
    "training.dat[1:5,]"
   ]
  },
  {
   "cell_type": "code",
   "execution_count": 7,
   "metadata": {
    "collapsed": false
   },
   "outputs": [
    {
     "data": {
      "text/html": [
       "<table>\n",
       "<thead><tr><th scope=col>X</th><th scope=col>TARGET.USI</th><th scope=col>Diagnostic.ID</th><th scope=col>Gender</th><th scope=col>Race</th><th scope=col>Ethnicity</th><th scope=col>Age.at.Diagnosis.in.Days</th><th scope=col>First.Event</th><th scope=col>Event.Free.Survival.Time.in.Days</th><th scope=col>Vital.Status</th></tr></thead>\n",
       "<tbody>\n",
       "\t<tr><td>0                     </td><td>TARGET-20-PABLDZ      </td><td>04A                   </td><td>Female                </td><td>White                 </td><td>Not Hispanic or Latino</td><td>2455                  </td><td>Relapse               </td><td>714                   </td><td>Alive                 </td></tr>\n",
       "\t<tr><td>1                     </td><td>TARGET-20-PADYIR      </td><td>04A                   </td><td>Male                  </td><td>White                 </td><td>Not Hispanic or Latino</td><td>1159                  </td><td>Relapse               </td><td>373                   </td><td>Dead                  </td></tr>\n",
       "\t<tr><td>2                     </td><td>TARGET-20-PADYIR      </td><td>09A                   </td><td>Male                  </td><td>White                 </td><td>Not Hispanic or Latino</td><td>1159                  </td><td>Relapse               </td><td>373                   </td><td>Dead                  </td></tr>\n",
       "\t<tr><td>3                     </td><td>TARGET-20-PADZCG      </td><td>09A                   </td><td>Female                </td><td>Unknown               </td><td>Not Hispanic or Latino</td><td>5325                  </td><td>Relapse               </td><td>314                   </td><td>Dead                  </td></tr>\n",
       "\t<tr><td>4                     </td><td>TARGET-20-PADZCG      </td><td>04A                   </td><td>Female                </td><td>Unknown               </td><td>Not Hispanic or Latino</td><td>5325                  </td><td>Relapse               </td><td>314                   </td><td>Dead                  </td></tr>\n",
       "</tbody>\n",
       "</table>\n"
      ],
      "text/latex": [
       "\\begin{tabular}{r|llllllllll}\n",
       " X & TARGET.USI & Diagnostic.ID & Gender & Race & Ethnicity & Age.at.Diagnosis.in.Days & First.Event & Event.Free.Survival.Time.in.Days & Vital.Status\\\\\n",
       "\\hline\n",
       "\t 0                      & TARGET-20-PABLDZ       & 04A                    & Female                 & White                  & Not Hispanic or Latino & 2455                   & Relapse                & 714                    & Alive                 \\\\\n",
       "\t 1                      & TARGET-20-PADYIR       & 04A                    & Male                   & White                  & Not Hispanic or Latino & 1159                   & Relapse                & 373                    & Dead                  \\\\\n",
       "\t 2                      & TARGET-20-PADYIR       & 09A                    & Male                   & White                  & Not Hispanic or Latino & 1159                   & Relapse                & 373                    & Dead                  \\\\\n",
       "\t 3                      & TARGET-20-PADZCG       & 09A                    & Female                 & Unknown                & Not Hispanic or Latino & 5325                   & Relapse                & 314                    & Dead                  \\\\\n",
       "\t 4                      & TARGET-20-PADZCG       & 04A                    & Female                 & Unknown                & Not Hispanic or Latino & 5325                   & Relapse                & 314                    & Dead                  \\\\\n",
       "\\end{tabular}\n"
      ],
      "text/markdown": [
       "\n",
       "| X | TARGET.USI | Diagnostic.ID | Gender | Race | Ethnicity | Age.at.Diagnosis.in.Days | First.Event | Event.Free.Survival.Time.in.Days | Vital.Status |\n",
       "|---|---|---|---|---|---|---|---|---|---|\n",
       "| 0                      | TARGET-20-PABLDZ       | 04A                    | Female                 | White                  | Not Hispanic or Latino | 2455                   | Relapse                | 714                    | Alive                  |\n",
       "| 1                      | TARGET-20-PADYIR       | 04A                    | Male                   | White                  | Not Hispanic or Latino | 1159                   | Relapse                | 373                    | Dead                   |\n",
       "| 2                      | TARGET-20-PADYIR       | 09A                    | Male                   | White                  | Not Hispanic or Latino | 1159                   | Relapse                | 373                    | Dead                   |\n",
       "| 3                      | TARGET-20-PADZCG       | 09A                    | Female                 | Unknown                | Not Hispanic or Latino | 5325                   | Relapse                | 314                    | Dead                   |\n",
       "| 4                      | TARGET-20-PADZCG       | 04A                    | Female                 | Unknown                | Not Hispanic or Latino | 5325                   | Relapse                | 314                    | Dead                   |\n",
       "\n"
      ],
      "text/plain": [
       "  X TARGET.USI       Diagnostic.ID Gender Race    Ethnicity             \n",
       "1 0 TARGET-20-PABLDZ 04A           Female White   Not Hispanic or Latino\n",
       "2 1 TARGET-20-PADYIR 04A           Male   White   Not Hispanic or Latino\n",
       "3 2 TARGET-20-PADYIR 09A           Male   White   Not Hispanic or Latino\n",
       "4 3 TARGET-20-PADZCG 09A           Female Unknown Not Hispanic or Latino\n",
       "5 4 TARGET-20-PADZCG 04A           Female Unknown Not Hispanic or Latino\n",
       "  Age.at.Diagnosis.in.Days First.Event Event.Free.Survival.Time.in.Days\n",
       "1 2455                     Relapse     714                             \n",
       "2 1159                     Relapse     373                             \n",
       "3 1159                     Relapse     373                             \n",
       "4 5325                     Relapse     314                             \n",
       "5 5325                     Relapse     314                             \n",
       "  Vital.Status\n",
       "1 Alive       \n",
       "2 Dead        \n",
       "3 Dead        \n",
       "4 Dead        \n",
       "5 Dead        "
      ]
     },
     "metadata": {},
     "output_type": "display_data"
    }
   ],
   "source": [
    "clinical.dat[1:5, 1:10]"
   ]
  },
  {
   "cell_type": "markdown",
   "metadata": {},
   "source": [
    "## get a subset of the samples in the training set"
   ]
  },
  {
   "cell_type": "code",
   "execution_count": 42,
   "metadata": {
    "collapsed": true
   },
   "outputs": [],
   "source": [
    "ind <- as.character(clinical.dat[, 2]) %in% as.character(training.dat[,2])"
   ]
  },
  {
   "cell_type": "code",
   "execution_count": 43,
   "metadata": {
    "collapsed": false
   },
   "outputs": [
    {
     "data": {
      "text/html": [
       "187"
      ],
      "text/latex": [
       "187"
      ],
      "text/markdown": [
       "187"
      ],
      "text/plain": [
       "[1] 187"
      ]
     },
     "metadata": {},
     "output_type": "display_data"
    }
   ],
   "source": [
    "length (ind)"
   ]
  },
  {
   "cell_type": "code",
   "execution_count": 44,
   "metadata": {
    "collapsed": false
   },
   "outputs": [
    {
     "data": {
      "text/html": [
       "121"
      ],
      "text/latex": [
       "121"
      ],
      "text/markdown": [
       "121"
      ],
      "text/plain": [
       "[1] 121"
      ]
     },
     "metadata": {},
     "output_type": "display_data"
    }
   ],
   "source": [
    "sum (ind)"
   ]
  },
  {
   "cell_type": "code",
   "execution_count": 45,
   "metadata": {
    "collapsed": false
   },
   "outputs": [
    {
     "data": {
      "text/html": [
       "<ol class=list-inline>\n",
       "\t<li>FALSE</li>\n",
       "\t<li>FALSE</li>\n",
       "\t<li>FALSE</li>\n",
       "\t<li>TRUE</li>\n",
       "\t<li>TRUE</li>\n",
       "</ol>\n"
      ],
      "text/latex": [
       "\\begin{enumerate*}\n",
       "\\item FALSE\n",
       "\\item FALSE\n",
       "\\item FALSE\n",
       "\\item TRUE\n",
       "\\item TRUE\n",
       "\\end{enumerate*}\n"
      ],
      "text/markdown": [
       "1. FALSE\n",
       "2. FALSE\n",
       "3. FALSE\n",
       "4. TRUE\n",
       "5. TRUE\n",
       "\n",
       "\n"
      ],
      "text/plain": [
       "[1] FALSE FALSE FALSE  TRUE  TRUE"
      ]
     },
     "metadata": {},
     "output_type": "display_data"
    }
   ],
   "source": [
    "ind[1:5]"
   ]
  },
  {
   "cell_type": "code",
   "execution_count": 46,
   "metadata": {
    "collapsed": false
   },
   "outputs": [],
   "source": [
    "clinical.sub1 <- clinical.dat[ind,]"
   ]
  },
  {
   "cell_type": "code",
   "execution_count": 47,
   "metadata": {
    "collapsed": false
   },
   "outputs": [
    {
     "data": {
      "text/html": [
       "<ol class=list-inline>\n",
       "\t<li>121</li>\n",
       "\t<li>21492</li>\n",
       "</ol>\n"
      ],
      "text/latex": [
       "\\begin{enumerate*}\n",
       "\\item 121\n",
       "\\item 21492\n",
       "\\end{enumerate*}\n"
      ],
      "text/markdown": [
       "1. 121\n",
       "2. 21492\n",
       "\n",
       "\n"
      ],
      "text/plain": [
       "[1]   121 21492"
      ]
     },
     "metadata": {},
     "output_type": "display_data"
    }
   ],
   "source": [
    "dim (clinical.sub1)"
   ]
  },
  {
   "cell_type": "code",
   "execution_count": 48,
   "metadata": {
    "collapsed": false
   },
   "outputs": [
    {
     "data": {
      "text/html": [
       "<table>\n",
       "<thead><tr><th></th><th scope=col>X</th><th scope=col>TARGET.USI</th><th scope=col>Diagnostic.ID</th><th scope=col>Gender</th><th scope=col>Race</th><th scope=col>Ethnicity</th><th scope=col>Age.at.Diagnosis.in.Days</th><th scope=col>First.Event</th><th scope=col>Event.Free.Survival.Time.in.Days</th><th scope=col>Vital.Status</th></tr></thead>\n",
       "<tbody>\n",
       "\t<tr><th scope=row>4</th><td>3                        </td><td>TARGET-20-PADZCG         </td><td>09A                      </td><td>Female                   </td><td>Unknown                  </td><td>Not Hispanic or Latino   </td><td>5325                     </td><td>Relapse                  </td><td>314                      </td><td>Dead                     </td></tr>\n",
       "\t<tr><th scope=row>5</th><td>4                        </td><td>TARGET-20-PADZCG         </td><td>04A                      </td><td>Female                   </td><td>Unknown                  </td><td>Not Hispanic or Latino   </td><td>5325                     </td><td>Relapse                  </td><td>314                      </td><td>Dead                     </td></tr>\n",
       "\t<tr><th scope=row>6</th><td>5                        </td><td>TARGET-20-PAEAKL         </td><td>09A                      </td><td>Female                   </td><td>Black or African American</td><td>Not Hispanic or Latino   </td><td>5218                     </td><td>Relapse                  </td><td>134                      </td><td>Dead                     </td></tr>\n",
       "\t<tr><th scope=row>7</th><td>6                        </td><td>TARGET-20-PAECCE         </td><td>09A                      </td><td>Male                     </td><td>White                    </td><td>Not Hispanic or Latino   </td><td> 900                     </td><td>Induction failure        </td><td> 85                      </td><td>Dead                     </td></tr>\n",
       "\t<tr><th scope=row>9</th><td>8                        </td><td>TARGET-20-PAEERJ         </td><td>04A                      </td><td>Female                   </td><td>White                    </td><td>Not Hispanic or Latino   </td><td>5082                     </td><td>Relapse                  </td><td>259                      </td><td>Dead                     </td></tr>\n",
       "</tbody>\n",
       "</table>\n"
      ],
      "text/latex": [
       "\\begin{tabular}{r|llllllllll}\n",
       "  & X & TARGET.USI & Diagnostic.ID & Gender & Race & Ethnicity & Age.at.Diagnosis.in.Days & First.Event & Event.Free.Survival.Time.in.Days & Vital.Status\\\\\n",
       "\\hline\n",
       "\t4 & 3                         & TARGET-20-PADZCG          & 09A                       & Female                    & Unknown                   & Not Hispanic or Latino    & 5325                      & Relapse                   & 314                       & Dead                     \\\\\n",
       "\t5 & 4                         & TARGET-20-PADZCG          & 04A                       & Female                    & Unknown                   & Not Hispanic or Latino    & 5325                      & Relapse                   & 314                       & Dead                     \\\\\n",
       "\t6 & 5                         & TARGET-20-PAEAKL          & 09A                       & Female                    & Black or African American & Not Hispanic or Latino    & 5218                      & Relapse                   & 134                       & Dead                     \\\\\n",
       "\t7 & 6                         & TARGET-20-PAECCE          & 09A                       & Male                      & White                     & Not Hispanic or Latino    &  900                      & Induction failure         &  85                       & Dead                     \\\\\n",
       "\t9 & 8                         & TARGET-20-PAEERJ          & 04A                       & Female                    & White                     & Not Hispanic or Latino    & 5082                      & Relapse                   & 259                       & Dead                     \\\\\n",
       "\\end{tabular}\n"
      ],
      "text/markdown": [
       "\n",
       "| <!--/--> | X | TARGET.USI | Diagnostic.ID | Gender | Race | Ethnicity | Age.at.Diagnosis.in.Days | First.Event | Event.Free.Survival.Time.in.Days | Vital.Status |\n",
       "|---|---|---|---|---|---|---|---|---|---|---|\n",
       "| 4 | 3                         | TARGET-20-PADZCG          | 09A                       | Female                    | Unknown                   | Not Hispanic or Latino    | 5325                      | Relapse                   | 314                       | Dead                      |\n",
       "| 5 | 4                         | TARGET-20-PADZCG          | 04A                       | Female                    | Unknown                   | Not Hispanic or Latino    | 5325                      | Relapse                   | 314                       | Dead                      |\n",
       "| 6 | 5                         | TARGET-20-PAEAKL          | 09A                       | Female                    | Black or African American | Not Hispanic or Latino    | 5218                      | Relapse                   | 134                       | Dead                      |\n",
       "| 7 | 6                         | TARGET-20-PAECCE          | 09A                       | Male                      | White                     | Not Hispanic or Latino    |  900                      | Induction failure         |  85                       | Dead                      |\n",
       "| 9 | 8                         | TARGET-20-PAEERJ          | 04A                       | Female                    | White                     | Not Hispanic or Latino    | 5082                      | Relapse                   | 259                       | Dead                      |\n",
       "\n"
      ],
      "text/plain": [
       "  X TARGET.USI       Diagnostic.ID Gender Race                     \n",
       "4 3 TARGET-20-PADZCG 09A           Female Unknown                  \n",
       "5 4 TARGET-20-PADZCG 04A           Female Unknown                  \n",
       "6 5 TARGET-20-PAEAKL 09A           Female Black or African American\n",
       "7 6 TARGET-20-PAECCE 09A           Male   White                    \n",
       "9 8 TARGET-20-PAEERJ 04A           Female White                    \n",
       "  Ethnicity              Age.at.Diagnosis.in.Days First.Event      \n",
       "4 Not Hispanic or Latino 5325                     Relapse          \n",
       "5 Not Hispanic or Latino 5325                     Relapse          \n",
       "6 Not Hispanic or Latino 5218                     Relapse          \n",
       "7 Not Hispanic or Latino  900                     Induction failure\n",
       "9 Not Hispanic or Latino 5082                     Relapse          \n",
       "  Event.Free.Survival.Time.in.Days Vital.Status\n",
       "4 314                              Dead        \n",
       "5 314                              Dead        \n",
       "6 134                              Dead        \n",
       "7  85                              Dead        \n",
       "9 259                              Dead        "
      ]
     },
     "metadata": {},
     "output_type": "display_data"
    }
   ],
   "source": [
    "clinical.sub1 [1:5, 1:10]"
   ]
  },
  {
   "cell_type": "markdown",
   "metadata": {},
   "source": [
    "## Note that some samples have 2 diagnostic.ID as \"09A\" or \"04A\"\n",
    "## will separate the two types"
   ]
  },
  {
   "cell_type": "code",
   "execution_count": 49,
   "metadata": {
    "collapsed": false
   },
   "outputs": [
    {
     "data": {
      "text/html": [
       "78"
      ],
      "text/latex": [
       "78"
      ],
      "text/markdown": [
       "78"
      ],
      "text/plain": [
       "[1] 78"
      ]
     },
     "metadata": {},
     "output_type": "display_data"
    },
    {
     "data": {
      "text/html": [
       "24"
      ],
      "text/latex": [
       "24"
      ],
      "text/markdown": [
       "24"
      ],
      "text/plain": [
       "[1] 24"
      ]
     },
     "metadata": {},
     "output_type": "display_data"
    }
   ],
   "source": [
    "ind.9A <- which (as.character(clinical.sub1[,3])==\"09A\")\n",
    "length (ind.9A)\n",
    "ind.4A <- which (as.character(clinical.sub1[,3])==\"04A\")\n",
    "length (ind.4A)"
   ]
  },
  {
   "cell_type": "code",
   "execution_count": 50,
   "metadata": {
    "collapsed": true
   },
   "outputs": [],
   "source": [
    "clinical.9A <- clinical.sub1[ind.9A,]\n",
    "clinical.4A <- clinical.sub1[ind.4A,]"
   ]
  },
  {
   "cell_type": "code",
   "execution_count": 51,
   "metadata": {
    "collapsed": false
   },
   "outputs": [
    {
     "data": {
      "text/html": [
       "<table>\n",
       "<thead><tr><th></th><th scope=col>TARGET.USI</th><th scope=col>Risk.group</th><th scope=col>ENSG00000000003.13</th><th scope=col>ENSG00000000005.5</th><th scope=col>ENSG00000000419.11</th><th scope=col>ENSG00000000457.12</th><th scope=col>ENSG00000000460.15</th></tr></thead>\n",
       "<tbody>\n",
       "\t<tr><th scope=row>4</th><td>TARGET-20-PADZCG</td><td>Standard        </td><td>-1.7809495      </td><td>-6.121355       </td><td>3.640955        </td><td>3.708995        </td><td>2.382656        </td></tr>\n",
       "\t<tr><th scope=row>6</th><td>TARGET-20-PAEAKL</td><td>Standard        </td><td>-2.0565009      </td><td>-4.747010       </td><td>4.011269        </td><td>1.708597        </td><td>2.457725        </td></tr>\n",
       "\t<tr><th scope=row>7</th><td>TARGET-20-PAECCE</td><td>Unknown         </td><td>-0.9682173      </td><td>-6.927145       </td><td>4.499045        </td><td>1.676106        </td><td>1.436330        </td></tr>\n",
       "\t<tr><th scope=row>10</th><td>TARGET-20-PAEERJ</td><td>High            </td><td>-0.6006771      </td><td>-6.927145       </td><td>4.337290        </td><td>3.704071        </td><td>1.457825        </td></tr>\n",
       "\t<tr><th scope=row>15</th><td>TARGET-20-PAEIKD</td><td>Standard        </td><td>-1.4481187      </td><td>-5.933690       </td><td>4.498012        </td><td>1.873546        </td><td>1.670794        </td></tr>\n",
       "</tbody>\n",
       "</table>\n"
      ],
      "text/latex": [
       "\\begin{tabular}{r|lllllll}\n",
       "  & TARGET.USI & Risk.group & ENSG00000000003.13 & ENSG00000000005.5 & ENSG00000000419.11 & ENSG00000000457.12 & ENSG00000000460.15\\\\\n",
       "\\hline\n",
       "\t4 & TARGET-20-PADZCG & Standard         & -1.7809495       & -6.121355        & 3.640955         & 3.708995         & 2.382656        \\\\\n",
       "\t6 & TARGET-20-PAEAKL & Standard         & -2.0565009       & -4.747010        & 4.011269         & 1.708597         & 2.457725        \\\\\n",
       "\t7 & TARGET-20-PAECCE & Unknown          & -0.9682173       & -6.927145        & 4.499045         & 1.676106         & 1.436330        \\\\\n",
       "\t10 & TARGET-20-PAEERJ & High             & -0.6006771       & -6.927145        & 4.337290         & 3.704071         & 1.457825        \\\\\n",
       "\t15 & TARGET-20-PAEIKD & Standard         & -1.4481187       & -5.933690        & 4.498012         & 1.873546         & 1.670794        \\\\\n",
       "\\end{tabular}\n"
      ],
      "text/markdown": [
       "\n",
       "| <!--/--> | TARGET.USI | Risk.group | ENSG00000000003.13 | ENSG00000000005.5 | ENSG00000000419.11 | ENSG00000000457.12 | ENSG00000000460.15 |\n",
       "|---|---|---|---|---|---|---|---|\n",
       "| 4 | TARGET-20-PADZCG | Standard         | -1.7809495       | -6.121355        | 3.640955         | 3.708995         | 2.382656         |\n",
       "| 6 | TARGET-20-PAEAKL | Standard         | -2.0565009       | -4.747010        | 4.011269         | 1.708597         | 2.457725         |\n",
       "| 7 | TARGET-20-PAECCE | Unknown          | -0.9682173       | -6.927145        | 4.499045         | 1.676106         | 1.436330         |\n",
       "| 10 | TARGET-20-PAEERJ | High             | -0.6006771       | -6.927145        | 4.337290         | 3.704071         | 1.457825         |\n",
       "| 15 | TARGET-20-PAEIKD | Standard         | -1.4481187       | -5.933690        | 4.498012         | 1.873546         | 1.670794         |\n",
       "\n"
      ],
      "text/plain": [
       "   TARGET.USI       Risk.group ENSG00000000003.13 ENSG00000000005.5\n",
       "4  TARGET-20-PADZCG Standard   -1.7809495         -6.121355        \n",
       "6  TARGET-20-PAEAKL Standard   -2.0565009         -4.747010        \n",
       "7  TARGET-20-PAECCE Unknown    -0.9682173         -6.927145        \n",
       "10 TARGET-20-PAEERJ High       -0.6006771         -6.927145        \n",
       "15 TARGET-20-PAEIKD Standard   -1.4481187         -5.933690        \n",
       "   ENSG00000000419.11 ENSG00000000457.12 ENSG00000000460.15\n",
       "4  3.640955           3.708995           2.382656          \n",
       "6  4.011269           1.708597           2.457725          \n",
       "7  4.499045           1.676106           1.436330          \n",
       "10 4.337290           3.704071           1.457825          \n",
       "15 4.498012           1.873546           1.670794          "
      ]
     },
     "metadata": {},
     "output_type": "display_data"
    },
    {
     "data": {
      "text/html": [
       "<ol class=list-inline>\n",
       "\t<li>78</li>\n",
       "\t<li>21492</li>\n",
       "</ol>\n"
      ],
      "text/latex": [
       "\\begin{enumerate*}\n",
       "\\item 78\n",
       "\\item 21492\n",
       "\\end{enumerate*}\n"
      ],
      "text/markdown": [
       "1. 78\n",
       "2. 21492\n",
       "\n",
       "\n"
      ],
      "text/plain": [
       "[1]    78 21492"
      ]
     },
     "metadata": {},
     "output_type": "display_data"
    }
   ],
   "source": [
    "clinical.9A[1:5, c(2,57, 86:90)]\n",
    "dim (clinical.9A)"
   ]
  },
  {
   "cell_type": "markdown",
   "metadata": {},
   "source": [
    "## want to get rid of some columns, only keep Risk.group in column 57\n",
    "## gene expression data starts in column 86"
   ]
  },
  {
   "cell_type": "code",
   "execution_count": 52,
   "metadata": {
    "collapsed": false
   },
   "outputs": [
    {
     "data": {
      "text/html": [
       "<ol class=list-inline>\n",
       "\t<li>78</li>\n",
       "\t<li>21409</li>\n",
       "</ol>\n"
      ],
      "text/latex": [
       "\\begin{enumerate*}\n",
       "\\item 78\n",
       "\\item 21409\n",
       "\\end{enumerate*}\n"
      ],
      "text/markdown": [
       "1. 78\n",
       "2. 21409\n",
       "\n",
       "\n"
      ],
      "text/plain": [
       "[1]    78 21409"
      ]
     },
     "metadata": {},
     "output_type": "display_data"
    }
   ],
   "source": [
    "clinical.9A.sub <- clinical.9A [, c(2,57, 86:ncol(clinical.9A))]\n",
    "dim (clinical.9A.sub)"
   ]
  },
  {
   "cell_type": "code",
   "execution_count": 53,
   "metadata": {
    "collapsed": false
   },
   "outputs": [
    {
     "data": {
      "text/html": [
       "<table>\n",
       "<thead><tr><th></th><th scope=col>TARGET.USI</th><th scope=col>Risk.group</th><th scope=col>ENSG00000281649.1</th><th scope=col>ENSG00000281691.1</th><th scope=col>ENSG00000281706.1</th><th scope=col>ENSG00000281741.1</th><th scope=col>ENSG00000281789.1</th><th scope=col>ENSG00000281896.1</th><th scope=col>ENSG00000281912.1</th><th scope=col>X__no_feature</th><th scope=col>X__ambiguous</th><th scope=col>X__alignment_not_unique</th></tr></thead>\n",
       "<tbody>\n",
       "\t<tr><th scope=row>4</th><td>TARGET-20-PADZCG</td><td>Standard        </td><td>5.465605        </td><td>-0.3308492      </td><td>-1.8432290      </td><td>-0.8014644      </td><td>-0.3647071      </td><td>2.1646040       </td><td>-0.1526893      </td><td>17.12435        </td><td>14.60608        </td><td>17.85268        </td></tr>\n",
       "\t<tr><th scope=row>6</th><td>TARGET-20-PAEAKL</td><td>Standard        </td><td>3.838620        </td><td>-2.1775560      </td><td>-0.7178125      </td><td>-0.8881697      </td><td> 1.7548210      </td><td>0.4565769       </td><td> 0.9654962      </td><td>16.79422        </td><td>15.36352        </td><td>19.67021        </td></tr>\n",
       "\t<tr><th scope=row>7</th><td>TARGET-20-PAECCE</td><td>Unknown         </td><td>5.233891        </td><td> 0.8928094      </td><td>-2.1475460      </td><td>-2.9373360      </td><td>-0.9303536      </td><td>1.3036040       </td><td>-1.3883210      </td><td>17.07368        </td><td>14.84510        </td><td>17.79465        </td></tr>\n",
       "\t<tr><th scope=row>10</th><td>TARGET-20-PAEERJ</td><td>High            </td><td>6.077090        </td><td> 0.7682412      </td><td>-0.6006771      </td><td>-1.5636620      </td><td>-0.5062523      </td><td>2.3281970       </td><td>-2.9093090      </td><td>16.91605        </td><td>14.56523        </td><td>17.57099        </td></tr>\n",
       "\t<tr><th scope=row>15</th><td>TARGET-20-PAEIKD</td><td>Standard        </td><td>5.939895        </td><td> 0.2397353      </td><td>-2.4802340      </td><td>-1.6545250      </td><td>-1.4164160      </td><td>1.0597870       </td><td>-1.9398530      </td><td>16.46459        </td><td>14.76246        </td><td>17.58458        </td></tr>\n",
       "</tbody>\n",
       "</table>\n"
      ],
      "text/latex": [
       "\\begin{tabular}{r|llllllllllll}\n",
       "  & TARGET.USI & Risk.group & ENSG00000281649.1 & ENSG00000281691.1 & ENSG00000281706.1 & ENSG00000281741.1 & ENSG00000281789.1 & ENSG00000281896.1 & ENSG00000281912.1 & X\\_\\_no\\_feature & X\\_\\_ambiguous & X\\_\\_alignment\\_not\\_unique\\\\\n",
       "\\hline\n",
       "\t4 & TARGET-20-PADZCG & Standard         & 5.465605         & -0.3308492       & -1.8432290       & -0.8014644       & -0.3647071       & 2.1646040        & -0.1526893       & 17.12435         & 14.60608         & 17.85268        \\\\\n",
       "\t6 & TARGET-20-PAEAKL & Standard         & 3.838620         & -2.1775560       & -0.7178125       & -0.8881697       &  1.7548210       & 0.4565769        &  0.9654962       & 16.79422         & 15.36352         & 19.67021        \\\\\n",
       "\t7 & TARGET-20-PAECCE & Unknown          & 5.233891         &  0.8928094       & -2.1475460       & -2.9373360       & -0.9303536       & 1.3036040        & -1.3883210       & 17.07368         & 14.84510         & 17.79465        \\\\\n",
       "\t10 & TARGET-20-PAEERJ & High             & 6.077090         &  0.7682412       & -0.6006771       & -1.5636620       & -0.5062523       & 2.3281970        & -2.9093090       & 16.91605         & 14.56523         & 17.57099        \\\\\n",
       "\t15 & TARGET-20-PAEIKD & Standard         & 5.939895         &  0.2397353       & -2.4802340       & -1.6545250       & -1.4164160       & 1.0597870        & -1.9398530       & 16.46459         & 14.76246         & 17.58458        \\\\\n",
       "\\end{tabular}\n"
      ],
      "text/markdown": [
       "\n",
       "| <!--/--> | TARGET.USI | Risk.group | ENSG00000281649.1 | ENSG00000281691.1 | ENSG00000281706.1 | ENSG00000281741.1 | ENSG00000281789.1 | ENSG00000281896.1 | ENSG00000281912.1 | X__no_feature | X__ambiguous | X__alignment_not_unique |\n",
       "|---|---|---|---|---|---|---|---|---|---|---|---|---|\n",
       "| 4 | TARGET-20-PADZCG | Standard         | 5.465605         | -0.3308492       | -1.8432290       | -0.8014644       | -0.3647071       | 2.1646040        | -0.1526893       | 17.12435         | 14.60608         | 17.85268         |\n",
       "| 6 | TARGET-20-PAEAKL | Standard         | 3.838620         | -2.1775560       | -0.7178125       | -0.8881697       |  1.7548210       | 0.4565769        |  0.9654962       | 16.79422         | 15.36352         | 19.67021         |\n",
       "| 7 | TARGET-20-PAECCE | Unknown          | 5.233891         |  0.8928094       | -2.1475460       | -2.9373360       | -0.9303536       | 1.3036040        | -1.3883210       | 17.07368         | 14.84510         | 17.79465         |\n",
       "| 10 | TARGET-20-PAEERJ | High             | 6.077090         |  0.7682412       | -0.6006771       | -1.5636620       | -0.5062523       | 2.3281970        | -2.9093090       | 16.91605         | 14.56523         | 17.57099         |\n",
       "| 15 | TARGET-20-PAEIKD | Standard         | 5.939895         |  0.2397353       | -2.4802340       | -1.6545250       | -1.4164160       | 1.0597870        | -1.9398530       | 16.46459         | 14.76246         | 17.58458         |\n",
       "\n"
      ],
      "text/plain": [
       "   TARGET.USI       Risk.group ENSG00000281649.1 ENSG00000281691.1\n",
       "4  TARGET-20-PADZCG Standard   5.465605          -0.3308492       \n",
       "6  TARGET-20-PAEAKL Standard   3.838620          -2.1775560       \n",
       "7  TARGET-20-PAECCE Unknown    5.233891           0.8928094       \n",
       "10 TARGET-20-PAEERJ High       6.077090           0.7682412       \n",
       "15 TARGET-20-PAEIKD Standard   5.939895           0.2397353       \n",
       "   ENSG00000281706.1 ENSG00000281741.1 ENSG00000281789.1 ENSG00000281896.1\n",
       "4  -1.8432290        -0.8014644        -0.3647071        2.1646040        \n",
       "6  -0.7178125        -0.8881697         1.7548210        0.4565769        \n",
       "7  -2.1475460        -2.9373360        -0.9303536        1.3036040        \n",
       "10 -0.6006771        -1.5636620        -0.5062523        2.3281970        \n",
       "15 -2.4802340        -1.6545250        -1.4164160        1.0597870        \n",
       "   ENSG00000281912.1 X__no_feature X__ambiguous X__alignment_not_unique\n",
       "4  -0.1526893        17.12435      14.60608     17.85268               \n",
       "6   0.9654962        16.79422      15.36352     19.67021               \n",
       "7  -1.3883210        17.07368      14.84510     17.79465               \n",
       "10 -2.9093090        16.91605      14.56523     17.57099               \n",
       "15 -1.9398530        16.46459      14.76246     17.58458               "
      ]
     },
     "metadata": {},
     "output_type": "display_data"
    }
   ],
   "source": [
    "clinical.9A.sub[1:5, c(1:2, 21400:21409)]"
   ]
  },
  {
   "cell_type": "code",
   "execution_count": 54,
   "metadata": {
    "collapsed": false
   },
   "outputs": [
    {
     "data": {
      "text/html": [
       "<ol class=list-inline>\n",
       "\t<li>78</li>\n",
       "\t<li>21406</li>\n",
       "</ol>\n"
      ],
      "text/latex": [
       "\\begin{enumerate*}\n",
       "\\item 78\n",
       "\\item 21406\n",
       "\\end{enumerate*}\n"
      ],
      "text/markdown": [
       "1. 78\n",
       "2. 21406\n",
       "\n",
       "\n"
      ],
      "text/plain": [
       "[1]    78 21406"
      ]
     },
     "metadata": {},
     "output_type": "display_data"
    }
   ],
   "source": [
    "# get rid of the last 3 columns\n",
    "clinical.9A.sub <- clinical.9A.sub[, -c(21407, 21408, 21409)]\n",
    "dim (clinical.9A.sub)"
   ]
  },
  {
   "cell_type": "code",
   "execution_count": 55,
   "metadata": {
    "collapsed": false
   },
   "outputs": [
    {
     "data": {
      "text/html": [
       "<table>\n",
       "<thead><tr><th></th><th scope=col>ENSG00000281649.1</th><th scope=col>ENSG00000281691.1</th><th scope=col>ENSG00000281706.1</th><th scope=col>ENSG00000281741.1</th><th scope=col>ENSG00000281789.1</th><th scope=col>ENSG00000281896.1</th><th scope=col>ENSG00000281912.1</th></tr></thead>\n",
       "<tbody>\n",
       "\t<tr><th scope=row>4</th><td>5.465605  </td><td>-0.3308492</td><td>-1.8432290</td><td>-0.8014644</td><td>-0.3647071</td><td>2.1646040 </td><td>-0.1526893</td></tr>\n",
       "\t<tr><th scope=row>6</th><td>3.838620  </td><td>-2.1775560</td><td>-0.7178125</td><td>-0.8881697</td><td> 1.7548210</td><td>0.4565769 </td><td> 0.9654962</td></tr>\n",
       "\t<tr><th scope=row>7</th><td>5.233891  </td><td> 0.8928094</td><td>-2.1475460</td><td>-2.9373360</td><td>-0.9303536</td><td>1.3036040 </td><td>-1.3883210</td></tr>\n",
       "\t<tr><th scope=row>10</th><td>6.077090  </td><td> 0.7682412</td><td>-0.6006771</td><td>-1.5636620</td><td>-0.5062523</td><td>2.3281970 </td><td>-2.9093090</td></tr>\n",
       "\t<tr><th scope=row>15</th><td>5.939895  </td><td> 0.2397353</td><td>-2.4802340</td><td>-1.6545250</td><td>-1.4164160</td><td>1.0597870 </td><td>-1.9398530</td></tr>\n",
       "</tbody>\n",
       "</table>\n"
      ],
      "text/latex": [
       "\\begin{tabular}{r|lllllll}\n",
       "  & ENSG00000281649.1 & ENSG00000281691.1 & ENSG00000281706.1 & ENSG00000281741.1 & ENSG00000281789.1 & ENSG00000281896.1 & ENSG00000281912.1\\\\\n",
       "\\hline\n",
       "\t4 & 5.465605   & -0.3308492 & -1.8432290 & -0.8014644 & -0.3647071 & 2.1646040  & -0.1526893\\\\\n",
       "\t6 & 3.838620   & -2.1775560 & -0.7178125 & -0.8881697 &  1.7548210 & 0.4565769  &  0.9654962\\\\\n",
       "\t7 & 5.233891   &  0.8928094 & -2.1475460 & -2.9373360 & -0.9303536 & 1.3036040  & -1.3883210\\\\\n",
       "\t10 & 6.077090   &  0.7682412 & -0.6006771 & -1.5636620 & -0.5062523 & 2.3281970  & -2.9093090\\\\\n",
       "\t15 & 5.939895   &  0.2397353 & -2.4802340 & -1.6545250 & -1.4164160 & 1.0597870  & -1.9398530\\\\\n",
       "\\end{tabular}\n"
      ],
      "text/markdown": [
       "\n",
       "| <!--/--> | ENSG00000281649.1 | ENSG00000281691.1 | ENSG00000281706.1 | ENSG00000281741.1 | ENSG00000281789.1 | ENSG00000281896.1 | ENSG00000281912.1 |\n",
       "|---|---|---|---|---|---|---|---|\n",
       "| 4 | 5.465605   | -0.3308492 | -1.8432290 | -0.8014644 | -0.3647071 | 2.1646040  | -0.1526893 |\n",
       "| 6 | 3.838620   | -2.1775560 | -0.7178125 | -0.8881697 |  1.7548210 | 0.4565769  |  0.9654962 |\n",
       "| 7 | 5.233891   |  0.8928094 | -2.1475460 | -2.9373360 | -0.9303536 | 1.3036040  | -1.3883210 |\n",
       "| 10 | 6.077090   |  0.7682412 | -0.6006771 | -1.5636620 | -0.5062523 | 2.3281970  | -2.9093090 |\n",
       "| 15 | 5.939895   |  0.2397353 | -2.4802340 | -1.6545250 | -1.4164160 | 1.0597870  | -1.9398530 |\n",
       "\n"
      ],
      "text/plain": [
       "   ENSG00000281649.1 ENSG00000281691.1 ENSG00000281706.1 ENSG00000281741.1\n",
       "4  5.465605          -0.3308492        -1.8432290        -0.8014644       \n",
       "6  3.838620          -2.1775560        -0.7178125        -0.8881697       \n",
       "7  5.233891           0.8928094        -2.1475460        -2.9373360       \n",
       "10 6.077090           0.7682412        -0.6006771        -1.5636620       \n",
       "15 5.939895           0.2397353        -2.4802340        -1.6545250       \n",
       "   ENSG00000281789.1 ENSG00000281896.1 ENSG00000281912.1\n",
       "4  -0.3647071        2.1646040         -0.1526893       \n",
       "6   1.7548210        0.4565769          0.9654962       \n",
       "7  -0.9303536        1.3036040         -1.3883210       \n",
       "10 -0.5062523        2.3281970         -2.9093090       \n",
       "15 -1.4164160        1.0597870         -1.9398530       "
      ]
     },
     "metadata": {},
     "output_type": "display_data"
    }
   ],
   "source": [
    "clinical.9A.sub[1:5, 21400:21406]"
   ]
  },
  {
   "cell_type": "code",
   "execution_count": 56,
   "metadata": {
    "collapsed": false
   },
   "outputs": [
    {
     "data": {
      "text/html": [
       "<table>\n",
       "<thead><tr><th></th><th scope=col>TARGET.USI</th><th scope=col>Risk.group</th><th scope=col>ENSG00000000003.13</th><th scope=col>ENSG00000000005.5</th><th scope=col>ENSG00000000419.11</th><th scope=col>ENSG00000000457.12</th></tr></thead>\n",
       "<tbody>\n",
       "\t<tr><th scope=row>TARGET-20-PADZCG</th><td>TARGET-20-PADZCG</td><td>Standard        </td><td>-1.7809495      </td><td>-6.121355       </td><td>3.640955        </td><td>3.708995        </td></tr>\n",
       "\t<tr><th scope=row>TARGET-20-PAEAKL</th><td>TARGET-20-PAEAKL</td><td>Standard        </td><td>-2.0565009      </td><td>-4.747010       </td><td>4.011269        </td><td>1.708597        </td></tr>\n",
       "\t<tr><th scope=row>TARGET-20-PAECCE</th><td>TARGET-20-PAECCE</td><td>Unknown         </td><td>-0.9682173      </td><td>-6.927145       </td><td>4.499045        </td><td>1.676106        </td></tr>\n",
       "\t<tr><th scope=row>TARGET-20-PAEERJ</th><td>TARGET-20-PAEERJ</td><td>High            </td><td>-0.6006771      </td><td>-6.927145       </td><td>4.337290        </td><td>3.704071        </td></tr>\n",
       "\t<tr><th scope=row>TARGET-20-PAEIKD</th><td>TARGET-20-PAEIKD</td><td>Standard        </td><td>-1.4481187      </td><td>-5.933690       </td><td>4.498012        </td><td>1.873546        </td></tr>\n",
       "</tbody>\n",
       "</table>\n"
      ],
      "text/latex": [
       "\\begin{tabular}{r|llllll}\n",
       "  & TARGET.USI & Risk.group & ENSG00000000003.13 & ENSG00000000005.5 & ENSG00000000419.11 & ENSG00000000457.12\\\\\n",
       "\\hline\n",
       "\tTARGET-20-PADZCG & TARGET-20-PADZCG & Standard         & -1.7809495       & -6.121355        & 3.640955         & 3.708995        \\\\\n",
       "\tTARGET-20-PAEAKL & TARGET-20-PAEAKL & Standard         & -2.0565009       & -4.747010        & 4.011269         & 1.708597        \\\\\n",
       "\tTARGET-20-PAECCE & TARGET-20-PAECCE & Unknown          & -0.9682173       & -6.927145        & 4.499045         & 1.676106        \\\\\n",
       "\tTARGET-20-PAEERJ & TARGET-20-PAEERJ & High             & -0.6006771       & -6.927145        & 4.337290         & 3.704071        \\\\\n",
       "\tTARGET-20-PAEIKD & TARGET-20-PAEIKD & Standard         & -1.4481187       & -5.933690        & 4.498012         & 1.873546        \\\\\n",
       "\\end{tabular}\n"
      ],
      "text/markdown": [
       "\n",
       "| <!--/--> | TARGET.USI | Risk.group | ENSG00000000003.13 | ENSG00000000005.5 | ENSG00000000419.11 | ENSG00000000457.12 |\n",
       "|---|---|---|---|---|---|---|\n",
       "| TARGET-20-PADZCG | TARGET-20-PADZCG | Standard         | -1.7809495       | -6.121355        | 3.640955         | 3.708995         |\n",
       "| TARGET-20-PAEAKL | TARGET-20-PAEAKL | Standard         | -2.0565009       | -4.747010        | 4.011269         | 1.708597         |\n",
       "| TARGET-20-PAECCE | TARGET-20-PAECCE | Unknown          | -0.9682173       | -6.927145        | 4.499045         | 1.676106         |\n",
       "| TARGET-20-PAEERJ | TARGET-20-PAEERJ | High             | -0.6006771       | -6.927145        | 4.337290         | 3.704071         |\n",
       "| TARGET-20-PAEIKD | TARGET-20-PAEIKD | Standard         | -1.4481187       | -5.933690        | 4.498012         | 1.873546         |\n",
       "\n"
      ],
      "text/plain": [
       "                 TARGET.USI       Risk.group ENSG00000000003.13\n",
       "TARGET-20-PADZCG TARGET-20-PADZCG Standard   -1.7809495        \n",
       "TARGET-20-PAEAKL TARGET-20-PAEAKL Standard   -2.0565009        \n",
       "TARGET-20-PAECCE TARGET-20-PAECCE Unknown    -0.9682173        \n",
       "TARGET-20-PAEERJ TARGET-20-PAEERJ High       -0.6006771        \n",
       "TARGET-20-PAEIKD TARGET-20-PAEIKD Standard   -1.4481187        \n",
       "                 ENSG00000000005.5 ENSG00000000419.11 ENSG00000000457.12\n",
       "TARGET-20-PADZCG -6.121355         3.640955           3.708995          \n",
       "TARGET-20-PAEAKL -4.747010         4.011269           1.708597          \n",
       "TARGET-20-PAECCE -6.927145         4.499045           1.676106          \n",
       "TARGET-20-PAEERJ -6.927145         4.337290           3.704071          \n",
       "TARGET-20-PAEIKD -5.933690         4.498012           1.873546          "
      ]
     },
     "metadata": {},
     "output_type": "display_data"
    }
   ],
   "source": [
    "dimnames(clinical.9A.sub)[[1]] <- clinical.9A.sub[,1]\n",
    "clinical.9A.sub[1:5, 1:6]"
   ]
  },
  {
   "cell_type": "code",
   "execution_count": 57,
   "metadata": {
    "collapsed": false
   },
   "outputs": [
    {
     "data": {
      "text/html": [
       "<table>\n",
       "<thead><tr><th></th><th scope=col>Risk.group</th><th scope=col>ENSG00000000003.13</th><th scope=col>ENSG00000000005.5</th><th scope=col>ENSG00000000419.11</th><th scope=col>ENSG00000000457.12</th><th scope=col>ENSG00000000460.15</th></tr></thead>\n",
       "<tbody>\n",
       "\t<tr><th scope=row>TARGET-20-PADZCG</th><td>Standard  </td><td>-1.7809495</td><td>-6.121355 </td><td>3.640955  </td><td>3.708995  </td><td>2.382656  </td></tr>\n",
       "\t<tr><th scope=row>TARGET-20-PAEAKL</th><td>Standard  </td><td>-2.0565009</td><td>-4.747010 </td><td>4.011269  </td><td>1.708597  </td><td>2.457725  </td></tr>\n",
       "\t<tr><th scope=row>TARGET-20-PAECCE</th><td>Unknown   </td><td>-0.9682173</td><td>-6.927145 </td><td>4.499045  </td><td>1.676106  </td><td>1.436330  </td></tr>\n",
       "\t<tr><th scope=row>TARGET-20-PAEERJ</th><td>High      </td><td>-0.6006771</td><td>-6.927145 </td><td>4.337290  </td><td>3.704071  </td><td>1.457825  </td></tr>\n",
       "\t<tr><th scope=row>TARGET-20-PAEIKD</th><td>Standard  </td><td>-1.4481187</td><td>-5.933690 </td><td>4.498012  </td><td>1.873546  </td><td>1.670794  </td></tr>\n",
       "</tbody>\n",
       "</table>\n"
      ],
      "text/latex": [
       "\\begin{tabular}{r|llllll}\n",
       "  & Risk.group & ENSG00000000003.13 & ENSG00000000005.5 & ENSG00000000419.11 & ENSG00000000457.12 & ENSG00000000460.15\\\\\n",
       "\\hline\n",
       "\tTARGET-20-PADZCG & Standard   & -1.7809495 & -6.121355  & 3.640955   & 3.708995   & 2.382656  \\\\\n",
       "\tTARGET-20-PAEAKL & Standard   & -2.0565009 & -4.747010  & 4.011269   & 1.708597   & 2.457725  \\\\\n",
       "\tTARGET-20-PAECCE & Unknown    & -0.9682173 & -6.927145  & 4.499045   & 1.676106   & 1.436330  \\\\\n",
       "\tTARGET-20-PAEERJ & High       & -0.6006771 & -6.927145  & 4.337290   & 3.704071   & 1.457825  \\\\\n",
       "\tTARGET-20-PAEIKD & Standard   & -1.4481187 & -5.933690  & 4.498012   & 1.873546   & 1.670794  \\\\\n",
       "\\end{tabular}\n"
      ],
      "text/markdown": [
       "\n",
       "| <!--/--> | Risk.group | ENSG00000000003.13 | ENSG00000000005.5 | ENSG00000000419.11 | ENSG00000000457.12 | ENSG00000000460.15 |\n",
       "|---|---|---|---|---|---|---|\n",
       "| TARGET-20-PADZCG | Standard   | -1.7809495 | -6.121355  | 3.640955   | 3.708995   | 2.382656   |\n",
       "| TARGET-20-PAEAKL | Standard   | -2.0565009 | -4.747010  | 4.011269   | 1.708597   | 2.457725   |\n",
       "| TARGET-20-PAECCE | Unknown    | -0.9682173 | -6.927145  | 4.499045   | 1.676106   | 1.436330   |\n",
       "| TARGET-20-PAEERJ | High       | -0.6006771 | -6.927145  | 4.337290   | 3.704071   | 1.457825   |\n",
       "| TARGET-20-PAEIKD | Standard   | -1.4481187 | -5.933690  | 4.498012   | 1.873546   | 1.670794   |\n",
       "\n"
      ],
      "text/plain": [
       "                 Risk.group ENSG00000000003.13 ENSG00000000005.5\n",
       "TARGET-20-PADZCG Standard   -1.7809495         -6.121355        \n",
       "TARGET-20-PAEAKL Standard   -2.0565009         -4.747010        \n",
       "TARGET-20-PAECCE Unknown    -0.9682173         -6.927145        \n",
       "TARGET-20-PAEERJ High       -0.6006771         -6.927145        \n",
       "TARGET-20-PAEIKD Standard   -1.4481187         -5.933690        \n",
       "                 ENSG00000000419.11 ENSG00000000457.12 ENSG00000000460.15\n",
       "TARGET-20-PADZCG 3.640955           3.708995           2.382656          \n",
       "TARGET-20-PAEAKL 4.011269           1.708597           2.457725          \n",
       "TARGET-20-PAECCE 4.499045           1.676106           1.436330          \n",
       "TARGET-20-PAEERJ 4.337290           3.704071           1.457825          \n",
       "TARGET-20-PAEIKD 4.498012           1.873546           1.670794          "
      ]
     },
     "metadata": {},
     "output_type": "display_data"
    }
   ],
   "source": [
    "clinical.9A.sub <- clinical.9A.sub[, -1]\n",
    "clinical.9A.sub[1:5, 1:6]"
   ]
  },
  {
   "cell_type": "code",
   "execution_count": 58,
   "metadata": {
    "collapsed": false
   },
   "outputs": [
    {
     "data": {
      "text/html": [
       "<ol class=list-inline>\n",
       "\t<li>'Standard'</li>\n",
       "\t<li>'Unknown'</li>\n",
       "\t<li>'High'</li>\n",
       "\t<li>'Low'</li>\n",
       "</ol>\n"
      ],
      "text/latex": [
       "\\begin{enumerate*}\n",
       "\\item 'Standard'\n",
       "\\item 'Unknown'\n",
       "\\item 'High'\n",
       "\\item 'Low'\n",
       "\\end{enumerate*}\n"
      ],
      "text/markdown": [
       "1. 'Standard'\n",
       "2. 'Unknown'\n",
       "3. 'High'\n",
       "4. 'Low'\n",
       "\n",
       "\n"
      ],
      "text/plain": [
       "[1] \"Standard\" \"Unknown\"  \"High\"     \"Low\"     "
      ]
     },
     "metadata": {},
     "output_type": "display_data"
    }
   ],
   "source": [
    "risk.group.9A <- as.character(clinical.9A.sub[,1])\n",
    "unique (risk.group.9A)"
   ]
  },
  {
   "cell_type": "code",
   "execution_count": 59,
   "metadata": {
    "collapsed": false
   },
   "outputs": [
    {
     "data": {
      "text/html": [
       "44"
      ],
      "text/latex": [
       "44"
      ],
      "text/markdown": [
       "44"
      ],
      "text/plain": [
       "[1] 44"
      ]
     },
     "metadata": {},
     "output_type": "display_data"
    },
    {
     "data": {
      "text/html": [
       "3"
      ],
      "text/latex": [
       "3"
      ],
      "text/markdown": [
       "3"
      ],
      "text/plain": [
       "[1] 3"
      ]
     },
     "metadata": {},
     "output_type": "display_data"
    },
    {
     "data": {
      "text/html": [
       "3"
      ],
      "text/latex": [
       "3"
      ],
      "text/markdown": [
       "3"
      ],
      "text/plain": [
       "[1] 3"
      ]
     },
     "metadata": {},
     "output_type": "display_data"
    },
    {
     "data": {
      "text/html": [
       "28"
      ],
      "text/latex": [
       "28"
      ],
      "text/markdown": [
       "28"
      ],
      "text/plain": [
       "[1] 28"
      ]
     },
     "metadata": {},
     "output_type": "display_data"
    }
   ],
   "source": [
    "sum (risk.group.9A == \"Standard\")\n",
    "sum (risk.group.9A == \"Unknown\")\n",
    "sum (risk.group.9A == \"High\")\n",
    "sum (risk.group.9A == \"Low\")"
   ]
  },
  {
   "cell_type": "markdown",
   "metadata": {},
   "source": [
    "## will build predictive models for Standard vs. Low"
   ]
  },
  {
   "cell_type": "code",
   "execution_count": 60,
   "metadata": {
    "collapsed": true
   },
   "outputs": [],
   "source": [
    "risk.group.9A.std <- which (risk.group.9A == \"Standard\")\n",
    "risk.group.9A.Low <- which (risk.group.9A == \"Low\")"
   ]
  },
  {
   "cell_type": "code",
   "execution_count": 61,
   "metadata": {
    "collapsed": false
   },
   "outputs": [
    {
     "data": {
      "text/html": [
       "44"
      ],
      "text/latex": [
       "44"
      ],
      "text/markdown": [
       "44"
      ],
      "text/plain": [
       "[1] 44"
      ]
     },
     "metadata": {},
     "output_type": "display_data"
    },
    {
     "data": {
      "text/html": [
       "28"
      ],
      "text/latex": [
       "28"
      ],
      "text/markdown": [
       "28"
      ],
      "text/plain": [
       "[1] 28"
      ]
     },
     "metadata": {},
     "output_type": "display_data"
    }
   ],
   "source": [
    "length (risk.group.9A.std)\n",
    "length (risk.group.9A.Low)"
   ]
  },
  {
   "cell_type": "code",
   "execution_count": 62,
   "metadata": {
    "collapsed": false
   },
   "outputs": [
    {
     "data": {
      "text/html": [
       "<ol class=list-inline>\n",
       "\t<li>72</li>\n",
       "\t<li>21405</li>\n",
       "</ol>\n"
      ],
      "text/latex": [
       "\\begin{enumerate*}\n",
       "\\item 72\n",
       "\\item 21405\n",
       "\\end{enumerate*}\n"
      ],
      "text/markdown": [
       "1. 72\n",
       "2. 21405\n",
       "\n",
       "\n"
      ],
      "text/plain": [
       "[1]    72 21405"
      ]
     },
     "metadata": {},
     "output_type": "display_data"
    }
   ],
   "source": [
    "clinical.9A.std <- clinical.9A.sub[risk.group.9A.std, ]\n",
    "clinical.9A.low <- clinical.9A.sub[risk.group.9A.Low, ]\n",
    "clinical.9A.combined <- rbind (clinical.9A.std, clinical.9A.low)\n",
    "dim (clinical.9A.combined)"
   ]
  },
  {
   "cell_type": "code",
   "execution_count": 63,
   "metadata": {
    "collapsed": false
   },
   "outputs": [
    {
     "data": {
      "text/html": [
       "<table>\n",
       "<thead><tr><th></th><th scope=col>Risk.group</th><th scope=col>ENSG00000000003.13</th><th scope=col>ENSG00000000005.5</th><th scope=col>ENSG00000000419.11</th><th scope=col>ENSG00000000457.12</th><th scope=col>ENSG00000000460.15</th></tr></thead>\n",
       "<tbody>\n",
       "\t<tr><th scope=row>TARGET-20-PADZCG</th><td>Standard  </td><td>-1.7809495</td><td>-6.121355 </td><td>3.640955  </td><td>3.708995  </td><td>2.382656  </td></tr>\n",
       "\t<tr><th scope=row>TARGET-20-PAEAKL</th><td>Standard  </td><td>-2.0565009</td><td>-4.747010 </td><td>4.011269  </td><td>1.708597  </td><td>2.457725  </td></tr>\n",
       "\t<tr><th scope=row>TARGET-20-PAEIKD</th><td>Standard  </td><td>-1.4481187</td><td>-5.933690 </td><td>4.498012  </td><td>1.873546  </td><td>1.670794  </td></tr>\n",
       "\t<tr><th scope=row>TARGET-20-PAKIWK</th><td>Standard  </td><td>-0.8506332</td><td>-6.927145 </td><td>5.087099  </td><td>2.016304  </td><td>2.022893  </td></tr>\n",
       "\t<tr><th scope=row>TARGET-20-PAKIYW</th><td>Standard  </td><td>-1.4995312</td><td>-6.927145 </td><td>4.568871  </td><td>2.582901  </td><td>2.749274  </td></tr>\n",
       "</tbody>\n",
       "</table>\n"
      ],
      "text/latex": [
       "\\begin{tabular}{r|llllll}\n",
       "  & Risk.group & ENSG00000000003.13 & ENSG00000000005.5 & ENSG00000000419.11 & ENSG00000000457.12 & ENSG00000000460.15\\\\\n",
       "\\hline\n",
       "\tTARGET-20-PADZCG & Standard   & -1.7809495 & -6.121355  & 3.640955   & 3.708995   & 2.382656  \\\\\n",
       "\tTARGET-20-PAEAKL & Standard   & -2.0565009 & -4.747010  & 4.011269   & 1.708597   & 2.457725  \\\\\n",
       "\tTARGET-20-PAEIKD & Standard   & -1.4481187 & -5.933690  & 4.498012   & 1.873546   & 1.670794  \\\\\n",
       "\tTARGET-20-PAKIWK & Standard   & -0.8506332 & -6.927145  & 5.087099   & 2.016304   & 2.022893  \\\\\n",
       "\tTARGET-20-PAKIYW & Standard   & -1.4995312 & -6.927145  & 4.568871   & 2.582901   & 2.749274  \\\\\n",
       "\\end{tabular}\n"
      ],
      "text/markdown": [
       "\n",
       "| <!--/--> | Risk.group | ENSG00000000003.13 | ENSG00000000005.5 | ENSG00000000419.11 | ENSG00000000457.12 | ENSG00000000460.15 |\n",
       "|---|---|---|---|---|---|---|\n",
       "| TARGET-20-PADZCG | Standard   | -1.7809495 | -6.121355  | 3.640955   | 3.708995   | 2.382656   |\n",
       "| TARGET-20-PAEAKL | Standard   | -2.0565009 | -4.747010  | 4.011269   | 1.708597   | 2.457725   |\n",
       "| TARGET-20-PAEIKD | Standard   | -1.4481187 | -5.933690  | 4.498012   | 1.873546   | 1.670794   |\n",
       "| TARGET-20-PAKIWK | Standard   | -0.8506332 | -6.927145  | 5.087099   | 2.016304   | 2.022893   |\n",
       "| TARGET-20-PAKIYW | Standard   | -1.4995312 | -6.927145  | 4.568871   | 2.582901   | 2.749274   |\n",
       "\n"
      ],
      "text/plain": [
       "                 Risk.group ENSG00000000003.13 ENSG00000000005.5\n",
       "TARGET-20-PADZCG Standard   -1.7809495         -6.121355        \n",
       "TARGET-20-PAEAKL Standard   -2.0565009         -4.747010        \n",
       "TARGET-20-PAEIKD Standard   -1.4481187         -5.933690        \n",
       "TARGET-20-PAKIWK Standard   -0.8506332         -6.927145        \n",
       "TARGET-20-PAKIYW Standard   -1.4995312         -6.927145        \n",
       "                 ENSG00000000419.11 ENSG00000000457.12 ENSG00000000460.15\n",
       "TARGET-20-PADZCG 3.640955           3.708995           2.382656          \n",
       "TARGET-20-PAEAKL 4.011269           1.708597           2.457725          \n",
       "TARGET-20-PAEIKD 4.498012           1.873546           1.670794          \n",
       "TARGET-20-PAKIWK 5.087099           2.016304           2.022893          \n",
       "TARGET-20-PAKIYW 4.568871           2.582901           2.749274          "
      ]
     },
     "metadata": {},
     "output_type": "display_data"
    }
   ],
   "source": [
    "clinical.9A.combined[1:5, 1:6]"
   ]
  },
  {
   "cell_type": "code",
   "execution_count": 64,
   "metadata": {
    "collapsed": true
   },
   "outputs": [],
   "source": [
    "y.combined <- c(rep(0:44), rep(1:28))"
   ]
  },
  {
   "cell_type": "code",
   "execution_count": 65,
   "metadata": {
    "collapsed": true
   },
   "outputs": [],
   "source": [
    "write.table (clinical.9A.combined, file=\"clinical_9A_standard_low_risk.txt\", sep=\"\\t\", quote=F, row.names=T, col.names=T)"
   ]
  },
  {
   "cell_type": "code",
   "execution_count": 66,
   "metadata": {
    "collapsed": true
   },
   "outputs": [],
   "source": [
    "clinical.9A.combined.expr <- clinical.9A.combined[, -1]"
   ]
  },
  {
   "cell_type": "code",
   "execution_count": 67,
   "metadata": {
    "collapsed": false
   },
   "outputs": [
    {
     "data": {
      "text/plain": [
       "\n",
       "\tWelch Two Sample t-test\n",
       "\n",
       "data:  clinical.9A.combined.expr[1:44, 1] and clinical.9A.combined.expr[45:72, 1]\n",
       "t = 4.0656, df = 69.986, p-value = 0.0001237\n",
       "alternative hypothesis: true difference in means is not equal to 0\n",
       "95 percent confidence interval:\n",
       " 1.100917 3.221178\n",
       "sample estimates:\n",
       "mean of x mean of y \n",
       "-1.803958 -3.965005 \n"
      ]
     },
     "metadata": {},
     "output_type": "display_data"
    }
   ],
   "source": [
    "t.test (clinical.9A.combined.expr[1:44, 1], clinical.9A.combined.expr[45:72, 1])"
   ]
  },
  {
   "cell_type": "code",
   "execution_count": 73,
   "metadata": {
    "collapsed": false
   },
   "outputs": [
    {
     "data": {
      "text/plain": [
       "\n",
       "\tWelch Two Sample t-test\n",
       "\n",
       "data:  clinical.9A.combined.expr[1:44, 21404] and clinical.9A.combined.expr[45:72, 21404]\n",
       "t = 1.9975, df = 48.026, p-value = 0.05145\n",
       "alternative hypothesis: true difference in means is not equal to 0\n",
       "95 percent confidence interval:\n",
       " -0.004302557  1.316235415\n",
       "sample estimates:\n",
       " mean of x  mean of y \n",
       "-0.8867361 -1.5427026 \n"
      ]
     },
     "metadata": {},
     "output_type": "display_data"
    }
   ],
   "source": [
    "t.test (clinical.9A.combined.expr[1:44, 21404], clinical.9A.combined.expr[45:72, 21404])"
   ]
  },
  {
   "cell_type": "code",
   "execution_count": 75,
   "metadata": {
    "collapsed": false
   },
   "outputs": [
    {
     "data": {
      "text/html": [
       "<ol class=list-inline>\n",
       "\t<li>72</li>\n",
       "\t<li>21404</li>\n",
       "</ol>\n"
      ],
      "text/latex": [
       "\\begin{enumerate*}\n",
       "\\item 72\n",
       "\\item 21404\n",
       "\\end{enumerate*}\n"
      ],
      "text/markdown": [
       "1. 72\n",
       "2. 21404\n",
       "\n",
       "\n"
      ],
      "text/plain": [
       "[1]    72 21404"
      ]
     },
     "metadata": {},
     "output_type": "display_data"
    },
    {
     "data": {
      "text/html": [
       "FALSE"
      ],
      "text/latex": [
       "FALSE"
      ],
      "text/markdown": [
       "FALSE"
      ],
      "text/plain": [
       "[1] FALSE"
      ]
     },
     "metadata": {},
     "output_type": "display_data"
    }
   ],
   "source": [
    "dim (clinical.9A.combined.expr)\n",
    "any (is.na (clinical.9A.combined.expr))"
   ]
  },
  {
   "cell_type": "code",
   "execution_count": 76,
   "metadata": {
    "collapsed": false
   },
   "outputs": [],
   "source": [
    "# compute the standard deviation\n",
    "sd.vec <- apply (clinical.9A.combined.expr, 2, function(x){ sd(x)})"
   ]
  },
  {
   "cell_type": "code",
   "execution_count": 77,
   "metadata": {
    "collapsed": false
   },
   "outputs": [
    {
     "data": {
      "text/html": [
       "21404"
      ],
      "text/latex": [
       "21404"
      ],
      "text/markdown": [
       "21404"
      ],
      "text/plain": [
       "[1] 21404"
      ]
     },
     "metadata": {},
     "output_type": "display_data"
    }
   ],
   "source": [
    "length (sd.vec)"
   ]
  },
  {
   "cell_type": "code",
   "execution_count": 78,
   "metadata": {
    "collapsed": false
   },
   "outputs": [
    {
     "data": {
      "image/png": "[encoded data removed]",
      "text/plain": [
       "Plot with title “Histogram of sd.vec”"
      ]
     },
     "metadata": {},
     "output_type": "display_data"
    }
   ],
   "source": [
    "hist (sd.vec)"
   ]
  },
  {
   "cell_type": "code",
   "execution_count": 81,
   "metadata": {
    "collapsed": false
   },
   "outputs": [
    {
     "data": {
      "text/html": [
       "471"
      ],
      "text/latex": [
       "471"
      ],
      "text/markdown": [
       "471"
      ],
      "text/plain": [
       "[1] 471"
      ]
     },
     "metadata": {},
     "output_type": "display_data"
    }
   ],
   "source": [
    "sum (sd.vec > 3)"
   ]
  },
  {
   "cell_type": "code",
   "execution_count": 82,
   "metadata": {
    "collapsed": false
   },
   "outputs": [
    {
     "data": {
      "text/html": [
       "<ol class=list-inline>\n",
       "\t<li>72</li>\n",
       "\t<li>471</li>\n",
       "</ol>\n"
      ],
      "text/latex": [
       "\\begin{enumerate*}\n",
       "\\item 72\n",
       "\\item 471\n",
       "\\end{enumerate*}\n"
      ],
      "text/markdown": [
       "1. 72\n",
       "2. 471\n",
       "\n",
       "\n"
      ],
      "text/plain": [
       "[1]  72 471"
      ]
     },
     "metadata": {},
     "output_type": "display_data"
    }
   ],
   "source": [
    "clinical.9A.combined.expr.sd3 <- clinical.9A.combined.expr[, which(sd.vec > 3)]\n",
    "dim (clinical.9A.combined.expr.sd3)"
   ]
  },
  {
   "cell_type": "code",
   "execution_count": 83,
   "metadata": {
    "collapsed": true
   },
   "outputs": [],
   "source": [
    "write.table (clinical.9A.combined.expr.sd3, file=\"clinical_9A_standard_low_risk_sd3.txt\", sep=\"\\t\", quote=F, row.names=T, col.names=T)"
   ]
  },
  {
   "cell_type": "markdown",
   "metadata": {},
   "source": [
    "## Now, we have a subset of the AML data consisting of 72 samples (44 standard vs. 28 low risk) across 471 genes with SD > 3"
   ]
  },
  {
   "cell_type": "code",
   "execution_count": null,
   "metadata": {
    "collapsed": true
   },
   "outputs": [],
   "source": []
  }
 ],
 "metadata": {
  "kernelspec": {
   "display_name": "R",
   "language": "R",
   "name": "ir"
  },
  "language_info": {
   "codemirror_mode": "r",
   "file_extension": ".r",
   "mimetype": "text/x-r-source",
   "name": "R",
   "pygments_lexer": "r",
   "version": "3.5.2"
  }
 },
 "nbformat": 4,
 "nbformat_minor": 2
}
